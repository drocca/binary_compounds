{
 "cells": [
  {
   "cell_type": "markdown",
   "metadata": {},
   "source": [
    "# Challenge on stable binary compounds: Final prediction with multilabel model and feature engineering    \n",
    "__Author: Dario Rocca__\n",
    "\n",
    "Based on the previous work I believe that a multilabel classifier is a better approach to predict a full stability vector. Multilabel random forests (or neural networks) “naturally” keep into account the correlation between labels. For example, the stability of the (90% A-10% B) compound might have implication on the stability of (80% A-20% B).\n",
    "From a practical point of view it is easy to train this type of model to optimize subset accuracy, namely accuracy on the full stability vector.\n",
    "\n",
    "In this notebook I will use the compound specific features already introduced in the binary_classifier.ipynb notebook. However, in this case I will not \"unroll\" the data. For example, I will introduce the weighted average features 0.9*featureA+0.1*featureB for the (90%A-10%B) compound and similar ones for other stoichiometries. Differently from the previous work on the binary classifier, a feature such as 0.9*featureA+0.1*featureB  will contribute to the full stability vector prediction and not only the corresponding stoichiometry.     "
   ]
  },
  {
   "cell_type": "markdown",
   "metadata": {},
   "source": [
    "## Loading data"
   ]
  },
  {
   "cell_type": "code",
   "execution_count": 1,
   "metadata": {},
   "outputs": [
    {
     "name": "stdout",
     "output_type": "stream",
     "text": [
      "Populating the interactive namespace from numpy and matplotlib\n"
     ]
    }
   ],
   "source": [
    "%pylab inline\n",
    "import pandas as pd"
   ]
  },
  {
   "cell_type": "code",
   "execution_count": 2,
   "metadata": {
    "collapsed": true
   },
   "outputs": [],
   "source": [
    "# Loading the training set with Pandas\n",
    "\n",
    "train=pd.read_csv(\"training_data.csv\") # creating the train dataframe\n",
    "\n",
    "#Following Ubaru et al. PRB 95, 214102 (2017)\n",
    "#I introduce here some new elemental properties which were missing in the data provided\n",
    "#Cohesive energy, Enthalpy of Vaporization and Electron Affinity.\n",
    "#Source of the data http://phases.imet-db.ru/elements/main.aspx (I checked some data and it seems reliable)\n",
    "\n",
    "cohesiveE=pd.read_csv(\"cohesive_energy.csv\")            # Loading cohesive energies for each element\n",
    "enthalpy_vap=pd.read_csv(\"enthalpy_vaporization.csv\")   # Loading enthalpy of vaporization for each element\n",
    "elec_affinity=pd.read_csv(\"electron_affinity.csv\")      # Loading electron affinity for each element\n",
    "\n",
    "# For convenience I'm setting the index of the dataframe to be the atom label\n",
    "cohesiveE=cohesiveE.set_index('atom')\n",
    "enthalpy_vap=enthalpy_vap.set_index('atom')\n",
    "elec_affinity=elec_affinity.set_index('atom')\n",
    "\n",
    "# For convenience the series is transformed into a dictionary\n",
    "cohesiveE_dic=cohesiveE['energy'].to_dict()\n",
    "enthalpy_vap_dic=enthalpy_vap['energy'].to_dict()\n",
    "elec_affinity_dic=elec_affinity['energy'].to_dict()\n",
    "\n",
    "# I create the new features columns; at this stage these columns\n",
    "# contain only the atoms name\n",
    "train[\"formulaA_cohesiveE\"]=train[\"formulaA\"]\n",
    "train[\"formulaB_cohesiveE\"]=train[\"formulaB\"]\n",
    "train[\"formulaA_enthalpy_vap\"]=train[\"formulaA\"]\n",
    "train[\"formulaB_enthalpy_vap\"]=train[\"formulaB\"]\n",
    "train[\"formulaA_elec_affinity\"]=train[\"formulaA\"]\n",
    "train[\"formulaB_elec_affinity\"]=train[\"formulaB\"]\n",
    "\n",
    "# Using the dictionaries I replace in the previously created columns the\n",
    "# name of the element with its corresponding property\n",
    "train=train.replace({\"formulaA_cohesiveE\": cohesiveE_dic})\n",
    "train=train.replace({\"formulaB_cohesiveE\": cohesiveE_dic})\n",
    "train=train.replace({\"formulaA_enthalpy_vap\": enthalpy_vap_dic})\n",
    "train=train.replace({\"formulaB_enthalpy_vap\": enthalpy_vap_dic})\n",
    "train=train.replace({\"formulaA_elec_affinity\": elec_affinity_dic})\n",
    "train=train.replace({\"formulaB_elec_affinity\": elec_affinity_dic})\n",
    "\n",
    "original_columns = list(train.columns) # List with the columns of the original dataframe"
   ]
  },
  {
   "cell_type": "markdown",
   "metadata": {},
   "source": [
    "__Below some manipulations that will be useful later.__"
   ]
  },
  {
   "cell_type": "code",
   "execution_count": 3,
   "metadata": {
    "collapsed": true
   },
   "outputs": [],
   "source": [
    "# Creating 2 lists that contain the name of the features (columns) corresponding\n",
    "# to element A and B\n",
    "\n",
    "columns_A = [] # List that will contain the name of the columns containing the descriptors of element A\n",
    "columns_B = [] # Same thing for element B\n",
    "\n",
    "for col in list(train.columns):\n",
    "    if ('formulaA' in col):\n",
    "        columns_A.append(col)\n",
    "    if ('formulaB' in col):\n",
    "        columns_B.append(col)\n",
    "\n",
    "# Adding avg_coordination_A (or B) and avg_nearest_neighbor_distance_A (or B) that do not contain\n",
    "# the string formulaA or formulaB\n",
    "columns_A.append('avg_coordination_A')\n",
    "columns_A.append('avg_nearest_neighbor_distance_A')\n",
    "\n",
    "columns_B.append('avg_coordination_B')\n",
    "columns_B.append('avg_nearest_neighbor_distance_B')"
   ]
  },
  {
   "cell_type": "code",
   "execution_count": 4,
   "metadata": {
    "collapsed": true
   },
   "outputs": [],
   "source": [
    "# The labels to predict are strings of the form \"[1.0,0.0,0.0,0.0,0.0,0.0,0.0,0.0,1.0,0.0,1.0]\"\n",
    "# Below I will extract the corresponding list\n",
    "\n",
    "import ast\n",
    "\n",
    "list_label = train['stabilityVec'].tolist()    # A list that contains the column 'stabilityVec'\n",
    "list_label = map(ast.literal_eval,list_label)\n",
    "list_label_np = np.asarray(list_label)\n",
    "\n",
    "#Let's drop the stability index of the pure element, as we do not need to predict it\n",
    "list_label_compound = list_label_np[:,1:10]"
   ]
  },
  {
   "cell_type": "markdown",
   "metadata": {},
   "source": [
    "## Feature engineering\n",
    "\n",
    "The features engineered below were the most effective in the binary classifier model developed in the binary_classifier.ipynb notebook.   "
   ]
  },
  {
   "cell_type": "code",
   "execution_count": 5,
   "metadata": {
    "collapsed": true
   },
   "outputs": [],
   "source": [
    "# I (re)discovered the differences and weighted average features on my own\n",
    "# However, they were already used together with the average deviation\n",
    "# in Ward et al. npj Computational Materials 2, 16028 (2016).\n",
    "\n",
    "for i in range(1,len(columns_A)):\n",
    "    col_name_diff = \"diff_\"+columns_A[i]\n",
    "    train[col_name_diff]=abs(train[columns_A[i]]-train[columns_B[i]])\n",
    "    for percentage_A in [0.9, 0.8, 0.7, 0.6, 0.5, 0.4, 0.3, 0.2, 0.1]: \n",
    "        percentage_B = 1.0 - percentage_A\n",
    "        col_name_mean = \"mean_\"+columns_A[i]+str(percentage_A)+str(percentage_B)\n",
    "        col_name_dev = \"dev_\"+columns_A[i]+str(percentage_A)+str(percentage_B)\n",
    "        train[col_name_mean]=(percentage_A*train[columns_A[i]]\n",
    "                              +percentage_B*train[columns_B[i]])\n",
    "        train[col_name_dev]=(percentage_A*\n",
    "                             abs(train[columns_A[i]]-train[col_name_mean])\n",
    "                             +percentage_B*\n",
    "                             abs(train[columns_B[i]]-train[col_name_mean]))\n",
    "        \n",
    "# There is a little \"mistake\": I should not compute the weighted averages of\n",
    "# categorical variables; I don't think this changes a lot the final result\n",
    "# but eventually I should correct it and retrain the model\n",
    "\n",
    "##################################################\n",
    "\n",
    "#The following features correspond to the valence orbital occupation attributes \n",
    "#These features have been proposed in Meredig et al. PRB 89 094104 (2014)\n",
    "\n",
    "for precentage_A in [0.9, 0.8, 0.7, 0.6, 0.5, 0.4, 0.3, 0.2, 0.1]:\n",
    "    percentage_B = 1.0 - precentage_A\n",
    "    \n",
    "    train[\"Fs\"]=((percentage_A*train[\"formulaA_elements_NsValence\"]\n",
    "                       +percentage_B*train[\"formulaB_elements_NsValence\"])/\n",
    "                       (percentage_A*train[\"formulaA_elements_NValance\"]\n",
    "                       +percentage_B*train[\"formulaB_elements_NValance\"]))\n",
    "    train[\"Fp\"]=((percentage_A*train[\"formulaA_elements_NpValence\"]\n",
    "                       +percentage_B*train[\"formulaB_elements_NpValence\"])/\n",
    "                       (percentage_A*train[\"formulaA_elements_NValance\"]\n",
    "                       +percentage_B*train[\"formulaB_elements_NValance\"]))\n",
    "    train[\"Fd\"]=((percentage_A*train[\"formulaA_elements_NdValence\"]\n",
    "                       +percentage_B*train[\"formulaB_elements_NdValence\"])/\n",
    "                       (percentage_A*train[\"formulaA_elements_NValance\"]\n",
    "                       +percentage_B*train[\"formulaB_elements_NValance\"]))            \n",
    "    train[\"Ff\"]=((percentage_A*train[\"formulaA_elements_NfValence\"]\n",
    "                       +percentage_B*train[\"formulaB_elements_NfValence\"])/\n",
    "                       (percentage_A*train[\"formulaA_elements_NValance\"]\n",
    "                       +percentage_B*train[\"formulaB_elements_NValance\"]))\n",
    "\n",
    "##################################################"
   ]
  },
  {
   "cell_type": "markdown",
   "metadata": {},
   "source": [
    "## Training a multilabel model and validate it\n",
    "\n",
    "I will keep a 10% hold out test set for validation."
   ]
  },
  {
   "cell_type": "code",
   "execution_count": 6,
   "metadata": {},
   "outputs": [
    {
     "name": "stdout",
     "output_type": "stream",
     "text": [
      "Number of features 973\n"
     ]
    }
   ],
   "source": [
    "# Importing sklearn\n",
    "from sklearn.model_selection import train_test_split\n",
    "\n",
    "\n",
    "# Dropping the original features - i will keep only the engineered ones\n",
    "X_tot = train.drop(original_columns, axis=1) \n",
    "Y_tot = list_label_compound\n",
    "\n",
    "\n",
    "# Holding out 10% of the data to test the model \n",
    "X_train, X_test, Y_train, Y_test = train_test_split(X_tot, Y_tot, test_size=0.1, random_state=0)\n",
    "\n",
    "print \"Number of features\",len(X_train.columns)"
   ]
  },
  {
   "cell_type": "markdown",
   "metadata": {},
   "source": [
    "By using 10-fold cross validation on the training set I performed a grid search for the best parameters for the random forest multilabel classifier. I used as scoring function the accuracy_score function, which is equivalent to subset accuracy.  The code lines corresponding to the grid search take a lot of time to execute and have been commented. With the optimized parameters I then evaluate the performance on the hold out test set."
   ]
  },
  {
   "cell_type": "code",
   "execution_count": 13,
   "metadata": {},
   "outputs": [
    {
     "name": "stdout",
     "output_type": "stream",
     "text": [
      "Detailed classification report:\n",
      "\n",
      "The model is trained on the training set.\n",
      "The scores are computed on the hold out test set.\n",
      "\n",
      "             precision    recall  f1-score   support\n",
      "\n",
      "          0       1.00      1.00      1.00        47\n",
      "          1       1.00      1.00      1.00        77\n",
      "          2       1.00      1.00      1.00       537\n",
      "          3       1.00      1.00      1.00       156\n",
      "          4       1.00      1.00      1.00       522\n",
      "          5       1.00      1.00      1.00       170\n",
      "          6       1.00      1.00      1.00       324\n",
      "          7       1.00      1.00      1.00       352\n",
      "          8       1.00      1.00      1.00        51\n",
      "\n",
      "avg / total       1.00      1.00      1.00      2236\n",
      "\n",
      "\n",
      "Subset accuracy (accuracy on full stability vector) 1.0\n",
      "Detailed classification report:\n",
      "\n",
      "The model is trained on the training set.\n",
      "The scores are computed on the hold out test set.\n",
      "\n",
      "             precision    recall  f1-score   support\n",
      "\n",
      "          0       0.00      0.00      0.00         3\n",
      "          1       1.00      0.18      0.31        11\n",
      "          2       0.84      0.70      0.77        61\n",
      "          3       1.00      0.50      0.67        20\n",
      "          4       0.80      0.65      0.71        62\n",
      "          5       0.71      0.33      0.45        15\n",
      "          6       0.73      0.44      0.55        36\n",
      "          7       0.78      0.45      0.57        40\n",
      "          8       0.67      0.22      0.33         9\n",
      "\n",
      "avg / total       0.80      0.53      0.62       257\n",
      "\n",
      "\n",
      "Subset accuracy (accuracy on full stability vector) 0.647286821705\n"
     ]
    }
   ],
   "source": [
    "# Importing sklearn\n",
    "from sklearn.ensemble import RandomForestClassifier\n",
    "from sklearn.model_selection import GridSearchCV\n",
    "from sklearn.metrics import classification_report\n",
    "from sklearn.metrics import coverage_error \n",
    "from sklearn.metrics import f1_score, accuracy_score\n",
    "from sklearn.metrics import make_scorer\n",
    "\n",
    "################################################################################\n",
    "\n",
    "####### The following commented lines have been used to optimize the RandomForestClassifier parameters\n",
    "####### This takes some time \n",
    "\n",
    "## Important parameters to optimize: n_estimators, max_features, and max_depth\n",
    "#search_grid_rf = [{'n_estimators': [50, 100, 150, 200, 250, 300],\n",
    "#                  'max_features': [0.1, 0.2, 0.3, 0.4, 0.5, 0.6],\n",
    "#                  'max_depth': [14, 18, 22, 26, 30]}] \n",
    "\n",
    "# I'm using subset accuracy as score function\n",
    "#subsetacc = make_scorer(accuracy_score)\n",
    "#multilabel_rf = GridSearchCV(RandomForestClassifier(random_state=0), search_grid_rf, cv=10,\n",
    "#                        scoring=subsetacc, verbose=10, n_jobs=4)\n",
    "\n",
    "#multilabel_rf.fit(X_train, Y_train)\n",
    "\n",
    "#print \"Best parameters set found on traning set:\"\n",
    "#print \"\"\n",
    "#print multilabel_rf.best_params_\n",
    "#print \"\"\n",
    "#print \"Grid scores on training set:\"\n",
    "#print \"\"\n",
    "\n",
    "#means = multilabel_rf.cv_results_['mean_test_score']\n",
    "#stds = multilabel_rf.cv_results_['std_test_score']\n",
    "#for mean, std, params in zip(means, stds, multilabel_rf.cv_results_['params']):\n",
    "#    print(\"%0.3f (+/-%0.03f) for %r\"\n",
    "#            % (mean, std * 2, params))\n",
    "#print \"\"\n",
    "\n",
    "#Best parameters set found on traning set:\n",
    "\n",
    "#{'max_features': 0.4, 'n_estimators': 100, 'max_depth': 30}\n",
    "\n",
    "#0.623 (+/-0.064) for {'max_features': 0.4, 'n_estimators': 100, 'max_depth': 30}\n",
    "\n",
    "################################################################################\n",
    "\n",
    "# The multilabel classifier\n",
    "multilabel_rf = RandomForestClassifier(max_features = 0.4, n_estimators = 100, max_depth = 30, random_state=0)\n",
    "# With the parameters above I got 0.623 (+/-0.064) as best score (subset accuracy) in the grid search\n",
    "# random_state=0 allows for reproducibility; alternatively we could release this constraint \n",
    "# and average over different final results\n",
    "\n",
    "###########################\n",
    "\n",
    "multilabel_rf.fit(X_train, Y_train)\n",
    "predictions_train = multilabel_rf.predict(X_train)\n",
    "\n",
    "print \"Detailed classification report:\"\n",
    "print \"\"\n",
    "print \"The model is trained on the training set.\"\n",
    "print(\"The scores are computed on the hold out test set.\")\n",
    "print \"\"\n",
    "print(classification_report(Y_train, predictions_train))\n",
    "print \"\"\n",
    "\n",
    "print \"Subset accuracy (accuracy on full stability vector)\", accuracy_score(Y_train, predictions_train)\n",
    "\n",
    "\n",
    "###########################\n",
    "\n",
    "predictions_test = multilabel_rf.predict(X_test)\n",
    "\n",
    "print \"Detailed classification report:\"\n",
    "print \"\"\n",
    "print \"The model is trained on the training set.\"\n",
    "print(\"The scores are computed on the hold out test set.\")\n",
    "print \"\"\n",
    "print(classification_report(Y_test, predictions_test))\n",
    "print \"\"\n",
    "\n",
    "print \"Subset accuracy (accuracy on full stability vector)\", accuracy_score(Y_test, predictions_test)"
   ]
  },
  {
   "cell_type": "markdown",
   "metadata": {
    "collapsed": true
   },
   "source": [
    "__Remarks__ <br>\n",
    "- In 10-fold cross validation I obtained 0.623 (+/-0.064) as best subset accuracy. \n",
    "- On the hold out test set I obtain a 0.62 f1 score with a precision (0.8) that is sizeably higher than the recall (0.53). The subset accuracy on the hold out test set is 0.65.   "
   ]
  },
  {
   "cell_type": "markdown",
   "metadata": {},
   "source": [
    "__Looking for the 10 most important features in the RF multilabel classifier__ "
   ]
  },
  {
   "cell_type": "code",
   "execution_count": 8,
   "metadata": {},
   "outputs": [
    {
     "name": "stdout",
     "output_type": "stream",
     "text": [
      "Feature ranking in the random forest algorithm (top 10):\n",
      "1. feature mean_formulaA_elements_Column0.50.5 (2.348871)\n",
      "2. feature mean_formulaA_elements_GSbandgap0.50.5 (1.124711)\n",
      "3. feature mean_formulaA_elements_Column0.40.6 (1.104977)\n",
      "4. feature mean_formulaA_elements_CovalentRadius0.10.9 (1.045030)\n",
      "5. feature mean_formulaA_elements_CovalentRadius0.90.1 (1.003792)\n",
      "6. feature mean_formulaA_elements_MendeleevNumber0.90.1 (0.891564)\n",
      "7. feature mean_formulaA_elements_Polarizability0.10.9 (0.825993)\n",
      "8. feature mean_formulaA_elements_GSbandgap0.60.4 (0.735998)\n",
      "9. feature mean_formulaA_elements_Column0.60.4 (0.729924)\n",
      "10. feature mean_formulaA_elements_GSbandgap0.40.6 (0.698317)\n"
     ]
    },
    {
     "data": {
      "image/png": "[encoded data removed]",
      "text/plain": [
       "<matplotlib.figure.Figure at 0x11416df50>"
      ]
     },
     "metadata": {},
     "output_type": "display_data"
    }
   ],
   "source": [
    "importances = multilabel_rf.feature_importances_\n",
    "\n",
    "indices = np.argsort(importances)[::-1]\n",
    "\n",
    "# Print the feature ranking\n",
    "\n",
    "n_to_plot = 10 \n",
    "\n",
    "print (\"Feature ranking in the random forest algorithm (top %i):\" % n_to_plot)\n",
    "Features=[]\n",
    "for f in range(n_to_plot):\n",
    "    index = indices[f]\n",
    "    feat = X_train.columns[index]\n",
    "    print(\"%d. feature %s (%f)\" % (f + 1, feat, importances[index]*100))\n",
    "    Features.append(feat)\n",
    "\n",
    "# Plot the feature importances of the random forest\n",
    "plt.figure(figsize=[16,6])\n",
    "plt.title(\"Feature importances in the random forest algorithm (Top %i)\" % n_to_plot)\n",
    "plt.bar(range(n_to_plot), importances[indices[0:n_to_plot]],\n",
    "       color=\"r\", align=\"center\")\n",
    "plt.xticks(range(n_to_plot), Features, rotation='vertical')\n",
    "plt.xlim([-1, n_to_plot])\n",
    "plt.show()"
   ]
  },
  {
   "cell_type": "markdown",
   "metadata": {},
   "source": [
    "## Making the final predictions\n",
    "\n",
    "In order to make the final predictions I will load the test_data.csv file in the topredict dataframe. Then I need to build all the engineered features also in this dataframe."
   ]
  },
  {
   "cell_type": "code",
   "execution_count": 9,
   "metadata": {
    "collapsed": true
   },
   "outputs": [],
   "source": [
    "topredict=pd.read_csv(\"test_data.csv\")\n",
    "submission = topredict.copy() # keeping this datafarme aside to write the final csv file\n",
    "\n",
    "#Following Ubaru et al. PRB 95, 214102 (2017)\n",
    "#I introduce here some new elemental properties which were missing in the data provided\n",
    "#Cohesive energy, Enthalpy of Vaporization and Electron Affinity.\n",
    "#Source of the data http://phases.imet-db.ru/elements/main.aspx (I checked some data and it seems reliable)\n",
    "\n",
    "cohesiveE=pd.read_csv(\"cohesive_energy.csv\")            # Loading cohesive energies for each element\n",
    "enthalpy_vap=pd.read_csv(\"enthalpy_vaporization.csv\")   # Loading enthalpy of vaporization for each element\n",
    "elec_affinity=pd.read_csv(\"electron_affinity.csv\")      # Loading electron affinity for each element\n",
    "\n",
    "# For convenience I'm setting the index of the dataframe to be the atom label\n",
    "cohesiveE=cohesiveE.set_index('atom')\n",
    "enthalpy_vap=enthalpy_vap.set_index('atom')\n",
    "elec_affinity=elec_affinity.set_index('atom')\n",
    "\n",
    "# For convenience the series is transformed into a dictionary\n",
    "cohesiveE_dic=cohesiveE['energy'].to_dict()\n",
    "enthalpy_vap_dic=enthalpy_vap['energy'].to_dict()\n",
    "elec_affinity_dic=elec_affinity['energy'].to_dict()\n",
    "\n",
    "# I create the new features columns; at this stage these columns\n",
    "# contain only the atoms name\n",
    "topredict[\"formulaA_cohesiveE\"]=topredict[\"formulaA\"]\n",
    "topredict[\"formulaB_cohesiveE\"]=topredict[\"formulaB\"]\n",
    "topredict[\"formulaA_enthalpy_vap\"]=topredict[\"formulaA\"]\n",
    "topredict[\"formulaB_enthalpy_vap\"]=topredict[\"formulaB\"]\n",
    "topredict[\"formulaA_elec_affinity\"]=topredict[\"formulaA\"]\n",
    "topredict[\"formulaB_elec_affinity\"]=topredict[\"formulaB\"]\n",
    "\n",
    "# Using the dictionaries I replace in the previously created columns the\n",
    "# name of the element with its corresponding property\n",
    "topredict=topredict.replace({\"formulaA_cohesiveE\": cohesiveE_dic})\n",
    "topredict=topredict.replace({\"formulaB_cohesiveE\": cohesiveE_dic})\n",
    "topredict=topredict.replace({\"formulaA_enthalpy_vap\": enthalpy_vap_dic})\n",
    "topredict=topredict.replace({\"formulaB_enthalpy_vap\": enthalpy_vap_dic})\n",
    "topredict=topredict.replace({\"formulaA_elec_affinity\": elec_affinity_dic})\n",
    "topredict=topredict.replace({\"formulaB_elec_affinity\": elec_affinity_dic})\n",
    "\n",
    "original_columns_topredict = list(topredict.columns)"
   ]
  },
  {
   "cell_type": "code",
   "execution_count": 10,
   "metadata": {
    "collapsed": true
   },
   "outputs": [],
   "source": [
    "for i in range(1,len(columns_A)):\n",
    "    col_name_diff = \"diff_\"+columns_A[i]\n",
    "    topredict[col_name_diff]=abs(topredict[columns_A[i]]-topredict[columns_B[i]])\n",
    "    for percentage_A in [0.9, 0.8, 0.7, 0.6, 0.5, 0.4, 0.3, 0.2, 0.1]: \n",
    "        percentage_B = 1.0 - percentage_A\n",
    "        col_name_mean = \"mean_\"+columns_A[i]+str(percentage_A)+str(percentage_B)\n",
    "        col_name_dev = \"dev_\"+columns_A[i]+str(percentage_A)+str(percentage_B)\n",
    "        topredict[col_name_mean]=(percentage_A*topredict[columns_A[i]]\n",
    "                              +percentage_B*topredict[columns_B[i]])\n",
    "        topredict[col_name_dev]=(percentage_A*\n",
    "                             abs(topredict[columns_A[i]]-topredict[col_name_mean])\n",
    "                             +percentage_B*\n",
    "                             abs(topredict[columns_B[i]]-topredict[col_name_mean]))\n",
    " \n",
    "\n",
    "for precentage_A in [0.9, 0.8, 0.7, 0.6, 0.5, 0.4, 0.3, 0.2, 0.1]:\n",
    "    percentage_B = 1.0 - precentage_A\n",
    "    \n",
    "    topredict[\"Fs\"]=((percentage_A*topredict[\"formulaA_elements_NsValence\"]\n",
    "                       +percentage_B*topredict[\"formulaB_elements_NsValence\"])/\n",
    "                       (percentage_A*topredict[\"formulaA_elements_NValance\"]\n",
    "                       +percentage_B*topredict[\"formulaB_elements_NValance\"]))\n",
    "    topredict[\"Fp\"]=((percentage_A*topredict[\"formulaA_elements_NpValence\"]\n",
    "                       +percentage_B*topredict[\"formulaB_elements_NpValence\"])/\n",
    "                       (percentage_A*topredict[\"formulaA_elements_NValance\"]\n",
    "                       +percentage_B*topredict[\"formulaB_elements_NValance\"]))\n",
    "    topredict[\"Fd\"]=((percentage_A*topredict[\"formulaA_elements_NdValence\"]\n",
    "                       +percentage_B*topredict[\"formulaB_elements_NdValence\"])/\n",
    "                       (percentage_A*topredict[\"formulaA_elements_NValance\"]\n",
    "                       +percentage_B*topredict[\"formulaB_elements_NValance\"]))            \n",
    "    topredict[\"Ff\"]=((percentage_A*topredict[\"formulaA_elements_NfValence\"]\n",
    "                       +percentage_B*topredict[\"formulaB_elements_NfValence\"])/\n",
    "                       (percentage_A*topredict[\"formulaA_elements_NValance\"]\n",
    "                       +percentage_B*topredict[\"formulaB_elements_NValance\"]))\n",
    "\n",
    "##################################################"
   ]
  },
  {
   "cell_type": "code",
   "execution_count": 11,
   "metadata": {
    "collapsed": true
   },
   "outputs": [],
   "source": [
    "# Dropping the original features - i will keep only the engineered ones\n",
    "X_topredict = topredict.drop(original_columns_topredict, axis=1) \n",
    "\n",
    "# final predictions\n",
    "final_predictions = multilabel_rf.predict(X_topredict)\n",
    "\n",
    "#Proper formatting for the stability vector (I have to add also the pure element stability)\n",
    "predicted_vector = []\n",
    "for i in final_predictions:\n",
    "    predicted_string = (\"[1.0,\"+str(i[0])+\",\"+str(i[1])+\",\"+str(i[2])+\",\"+str(i[3])+\",\"+str(i[4])\n",
    "           +\",\"+str(i[5])+\",\"+str(i[6])+\",\"+str(i[7])+\",\"+str(i[8])+\",1.0]\")\n",
    "    predicted_vector.append(predicted_string)\n",
    "\n",
    "# writing the dataframe with predictions to csv file\n",
    "submission[\"stabilityVec\"]=predicted_vector\n",
    "submission.to_csv('final.csv', index=False)"
   ]
  },
  {
   "cell_type": "markdown",
   "metadata": {},
   "source": [
    "## Conclusions \n",
    "\n",
    "I trained the parameters of the model with 10-fold cross-validation and using subset accuracy as scoring function. __On the test set I obtained a 65% subset accuracy.__ As a reference, by considering all the labels as equal to 0 the subset accuracy would be 52%. Subset accuracy is a very strict metric as it indicates the percentage of samples that have all their labels classified correctly. As shown above certain classes have sizeably lower f1-score and this has implications for the overall subset accuracy.  "
   ]
  },
  {
   "cell_type": "code",
   "execution_count": null,
   "metadata": {
    "collapsed": true
   },
   "outputs": [],
   "source": []
  }
 ],
 "metadata": {
  "kernelspec": {
   "display_name": "Python 2",
   "language": "python",
   "name": "python2"
  },
  "language_info": {
   "codemirror_mode": {
    "name": "ipython",
    "version": 2
   },
   "file_extension": ".py",
   "mimetype": "text/x-python",
   "name": "python",
   "nbconvert_exporter": "python",
   "pygments_lexer": "ipython2",
   "version": "2.7.14"
  }
 },
 "nbformat": 4,
 "nbformat_minor": 2
}
